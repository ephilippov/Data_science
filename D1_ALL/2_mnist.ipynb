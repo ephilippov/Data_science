{
 "cells": [
  {
   "cell_type": "markdown",
   "metadata": {},
   "source": [
    "# 1. MNIST - TensorFlow"
   ]
  },
  {
   "cell_type": "code",
   "execution_count": 1,
   "metadata": {
    "collapsed": true
   },
   "outputs": [],
   "source": [
    "import numpy as np\n",
    "import tensorflow as tf\n",
    "from tensorflow.examples.tutorials.mnist import input_data"
   ]
  },
  {
   "cell_type": "markdown",
   "metadata": {},
   "source": [
    "## Загружаем данные"
   ]
  },
  {
   "cell_type": "code",
   "execution_count": 2,
   "metadata": {},
   "outputs": [
    {
     "name": "stdout",
     "output_type": "stream",
     "text": [
      "Extracting /tmp/data/train-images-idx3-ubyte.gz\n",
      "Extracting /tmp/data/train-labels-idx1-ubyte.gz\n",
      "Extracting /tmp/data/t10k-images-idx3-ubyte.gz\n",
      "Extracting /tmp/data/t10k-labels-idx1-ubyte.gz\n"
     ]
    }
   ],
   "source": [
    "mnist = input_data.read_data_sets('/tmp/data', one_hot=True)\n",
    "\n",
    "Xtrain = mnist.train.images\n",
    "ytrain = mnist.train.labels\n",
    "Xtest = mnist.test.images\n",
    "ytest = mnist.test.labels\n",
    "\n",
    "N_PIXELS = 28 * 28\n",
    "N_CLASSES = 10\n",
    "HIDDEN_SIZE = 64\n",
    "EPOCHS = 20\n",
    "BATCH_SIZE = 64\n",
    "\n",
    "sess = tf.Session()"
   ]
  },
  {
   "cell_type": "code",
   "execution_count": 3,
   "metadata": {},
   "outputs": [
    {
     "data": {
      "image/png": "[encoded data removed]",
      "text/plain": [
       "<matplotlib.figure.Figure at 0x1278caef0>"
      ]
     },
     "metadata": {},
     "output_type": "display_data"
    }
   ],
   "source": [
    "%matplotlib inline\n",
    "from matplotlib import pyplot as plt\n",
    "\n",
    "n_images = 5\n",
    "ind = np.random.choice(len(Xtrain), n_images)\n",
    "f, axarr = plt.subplots(1, n_images, figsize=(28,28))\n",
    "for i in range(n_images):\n",
    "    axarr[i].imshow(Xtrain[ind[i]].reshape((28,28)), cmap=plt.cm.gray)\n",
    "    axarr[i].set_title('%s' % ytrain[ind[i]])"
   ]
  },
  {
   "cell_type": "markdown",
   "metadata": {},
   "source": [
    "## Инициализируем placeholder'ы для данных"
   ]
  },
  {
   "cell_type": "code",
   "execution_count": 5,
   "metadata": {
    "collapsed": true
   },
   "outputs": [],
   "source": [
    "x = tf.placeholder(tf.float32, [None, N_PIXELS], name=\"pixels\")\n",
    "y_label = tf.placeholder(tf.float32, [None, N_CLASSES], name=\"labels\")"
   ]
  },
  {
   "cell_type": "markdown",
   "metadata": {},
   "source": [
    "## Инициализирем архитектуру сети"
   ]
  },
  {
   "cell_type": "code",
   "execution_count": 6,
   "metadata": {
    "collapsed": true
   },
   "outputs": [],
   "source": [
    "W1 = tf.Variable(tf.truncated_normal([N_PIXELS, HIDDEN_SIZE],\n",
    "                                     stddev=N_PIXELS**-0.5))\n",
    "b1 = tf.Variable(tf.zeros([HIDDEN_SIZE]))\n",
    "\n",
    "hidden = tf.nn.sigmoid(tf.matmul(x, W1) + b1)"
   ]
  },
  {
   "cell_type": "code",
   "execution_count": 7,
   "metadata": {
    "collapsed": true
   },
   "outputs": [],
   "source": [
    "W2 = tf.Variable(tf.truncated_normal([HIDDEN_SIZE, N_CLASSES],\n",
    "                                     stddev=HIDDEN_SIZE**-0.5))\n",
    "b2 = tf.Variable(tf.zeros([N_CLASSES]))\n",
    "\n",
    "y = tf.matmul(hidden, W2) + b2"
   ]
  },
  {
   "cell_type": "markdown",
   "metadata": {},
   "source": [
    "## Задаем функцию потерь и метрику качества"
   ]
  },
  {
   "cell_type": "code",
   "execution_count": 8,
   "metadata": {
    "collapsed": true
   },
   "outputs": [],
   "source": [
    "loss = tf.reduce_mean(\n",
    "    tf.nn.softmax_cross_entropy_with_logits(logits=y, labels=y_label))"
   ]
  },
  {
   "cell_type": "code",
   "execution_count": 9,
   "metadata": {
    "collapsed": true
   },
   "outputs": [],
   "source": [
    "accuracy = tf.reduce_mean(tf.cast(tf.equal(tf.argmax(y, 1),\n",
    "                                           tf.argmax(y_label, 1)),\n",
    "                                  tf.float32))"
   ]
  },
  {
   "cell_type": "markdown",
   "metadata": {},
   "source": [
    "## Запускаем обучение сети"
   ]
  },
  {
   "cell_type": "code",
   "execution_count": 14,
   "metadata": {},
   "outputs": [
    {
     "name": "stdout",
     "output_type": "stream",
     "text": [
      "[0.27419215, 0.91860002]\n",
      "[0.20244446, 0.94069999]\n",
      "[0.16198495, 0.95050001]\n",
      "[0.14283413, 0.95850003]\n",
      "[0.1352001, 0.9594]\n",
      "[0.12985417, 0.9612]\n",
      "[0.10671704, 0.9677]\n",
      "[0.10480923, 0.96780002]\n",
      "[0.097900063, 0.97140002]\n",
      "[0.093541428, 0.97149998]\n",
      "[0.091937974, 0.97119999]\n",
      "[0.087621689, 0.97299999]\n",
      "[0.087374538, 0.97420001]\n",
      "[0.094211467, 0.9716]\n",
      "[0.085480906, 0.97469997]\n",
      "[0.086175852, 0.9734]\n",
      "[0.083629392, 0.9745]\n",
      "[0.081091888, 0.97500002]\n",
      "[0.081647724, 0.97469997]\n",
      "[0.08058843, 0.97530001]\n"
     ]
    }
   ],
   "source": [
    "sgd = tf.train.GradientDescentOptimizer(0.5).minimize(loss)\n",
    "sess.run(tf.global_variables_initializer())\n",
    "inds = list(range(Xtrain.shape[0]))\n",
    "\n",
    "for i in range(EPOCHS):\n",
    "    np.random.shuffle(inds)\n",
    "    for j in range(0, len(inds), BATCH_SIZE):\n",
    "        sess.run(sgd, feed_dict={x: Xtrain[inds[j:j+BATCH_SIZE]],\n",
    "                                 y_label: ytrain[inds[j:j+BATCH_SIZE]]})\n",
    "    \n",
    "    print(sess.run([loss, accuracy], feed_dict={x: Xtest, y_label: ytest}))"
   ]
  },
  {
   "cell_type": "markdown",
   "metadata": {},
   "source": [
    "## Испольем tf.layers для инициализации слоев"
   ]
  },
  {
   "cell_type": "code",
   "execution_count": 15,
   "metadata": {
    "collapsed": true
   },
   "outputs": [],
   "source": [
    "hidden = tf.layers.dense(x, HIDDEN_SIZE,\n",
    "                         activation=tf.nn.sigmoid,\n",
    "                         use_bias=True,\n",
    "                         kernel_initializer=tf.truncated_normal_initializer(stddev=N_PIXELS**-0.5))"
   ]
  },
  {
   "cell_type": "code",
   "execution_count": 16,
   "metadata": {
    "collapsed": true
   },
   "outputs": [],
   "source": [
    "y = tf.layers.dense(hidden, N_CLASSES,\n",
    "                    activation=None,\n",
    "                    use_bias=True,\n",
    "                    kernel_initializer=tf.truncated_normal_initializer(stddev=HIDDEN_SIZE**-0.5))"
   ]
  },
  {
   "cell_type": "code",
   "execution_count": 17,
   "metadata": {
    "collapsed": true
   },
   "outputs": [],
   "source": [
    "loss = tf.reduce_mean(\n",
    "    tf.nn.softmax_cross_entropy_with_logits(logits=y, labels=y_label))\n",
    "accuracy = tf.reduce_mean(tf.cast(tf.equal(tf.argmax(y, 1),\n",
    "                                           tf.argmax(y_label, 1)),\n",
    "                                  tf.float32))"
   ]
  },
  {
   "cell_type": "code",
   "execution_count": 20,
   "metadata": {},
   "outputs": [
    {
     "name": "stdout",
     "output_type": "stream",
     "text": [
      "[0.25981373, 0.92500001]\n",
      "[0.20735918, 0.93910003]\n",
      "[0.15981436, 0.95099998]\n",
      "[0.13998252, 0.95829999]\n",
      "[0.13856152, 0.95749998]\n",
      "[0.11754297, 0.96270001]\n",
      "[0.1199107, 0.96340001]\n",
      "[0.099365763, 0.96960002]\n",
      "[0.099747203, 0.97039998]\n",
      "[0.090783633, 0.97189999]\n",
      "[0.11230276, 0.96390003]\n",
      "[0.090827942, 0.972]\n",
      "[0.091741115, 0.97189999]\n",
      "[0.083837844, 0.97430003]\n",
      "[0.086600326, 0.97189999]\n",
      "[0.08193659, 0.97439998]\n",
      "[0.083111331, 0.97329998]\n",
      "[0.079942405, 0.97570002]\n",
      "[0.079861477, 0.97589999]\n",
      "[0.079603352, 0.97490001]\n"
     ]
    }
   ],
   "source": [
    "sgd = tf.train.GradientDescentOptimizer(0.5).minimize(loss)\n",
    "sess.run(tf.global_variables_initializer())\n",
    "inds = list(range(Xtrain.shape[0]))\n",
    "\n",
    "for i in range(EPOCHS):\n",
    "    np.random.shuffle(inds)\n",
    "    for j in range(0, len(inds), BATCH_SIZE):\n",
    "        sess.run(sgd, feed_dict={x: Xtrain[inds[j:j+BATCH_SIZE]],\n",
    "                                 y_label: ytrain[inds[j:j+BATCH_SIZE]]})\n",
    "    \n",
    "    print(sess.run([loss, accuracy], feed_dict={x: Xtest, y_label: ytest}))"
   ]
  },
  {
   "cell_type": "markdown",
   "metadata": {},
   "source": [
    "# 2. MNIST - LogReg"
   ]
  },
  {
   "cell_type": "code",
   "execution_count": 13,
   "metadata": {},
   "outputs": [],
   "source": [
    "import numpy as np\n",
    "from sklearn.datasets import fetch_mldata\n",
    "from sklearn.metrics import classification_report, accuracy_score"
   ]
  },
  {
   "cell_type": "code",
   "execution_count": 3,
   "metadata": {},
   "outputs": [],
   "source": [
    "mnist = fetch_mldata('MNIST original', data_home='/tmp/sklearn')\n",
    "X, y = mnist['data'], mnist['target']"
   ]
  },
  {
   "cell_type": "code",
   "execution_count": 4,
   "metadata": {},
   "outputs": [
    {
     "data": {
      "image/png": "[encoded data removed]",
      "text/plain": [
       "<matplotlib.figure.Figure at 0x11285ff28>"
      ]
     },
     "metadata": {},
     "output_type": "display_data"
    }
   ],
   "source": [
    "%matplotlib inline\n",
    "from matplotlib import pyplot as plt\n",
    "\n",
    "n_images = 5\n",
    "ind = np.random.choice(len(X), n_images)\n",
    "f, axarr = plt.subplots(1, n_images, figsize=(28,28))\n",
    "for i in range(n_images):\n",
    "    axarr[i].imshow(X[ind[i]].reshape((28,28)), cmap=plt.cm.gray)\n",
    "    axarr[i].set_title('%s' % y[ind[i]])"
   ]
  },
  {
   "cell_type": "code",
   "execution_count": 5,
   "metadata": {},
   "outputs": [],
   "source": [
    "from sklearn.model_selection import train_test_split\n",
    "X_train, X_test, y_train, y_test = train_test_split(X, y, test_size=0.5, random_state=12345)"
   ]
  },
  {
   "cell_type": "code",
   "execution_count": 6,
   "metadata": {},
   "outputs": [],
   "source": [
    "from sklearn.decomposition import PCA\n",
    "pca = PCA(n_components=100).fit(X_train)\n",
    "X_train_pca = pca.transform(X_train)\n",
    "X_test_pca = pca.transform(X_test)"
   ]
  },
  {
   "cell_type": "code",
   "execution_count": 7,
   "metadata": {
    "collapsed": true
   },
   "outputs": [],
   "source": [
    "from sklearn.linear_model import LogisticRegression\n",
    "model_logreg = LogisticRegression(multi_class='multinomial', solver='sag').fit(X_train_pca, y_train)"
   ]
  },
  {
   "cell_type": "code",
   "execution_count": 17,
   "metadata": {},
   "outputs": [
    {
     "name": "stdout",
     "output_type": "stream",
     "text": [
      "accuracy = 0.9106\n",
      "             precision    recall  f1-score   support\n",
      "\n",
      "        0.0       0.94      0.96      0.95      3455\n",
      "        1.0       0.93      0.97      0.95      3926\n",
      "        2.0       0.92      0.90      0.91      3441\n",
      "        3.0       0.92      0.87      0.90      3529\n",
      "        4.0       0.90      0.93      0.91      3399\n",
      "        5.0       0.88      0.84      0.86      3185\n",
      "        6.0       0.93      0.95      0.94      3498\n",
      "        7.0       0.92      0.93      0.92      3633\n",
      "        8.0       0.88      0.85      0.86      3471\n",
      "        9.0       0.88      0.89      0.88      3463\n",
      "\n",
      "avg / total       0.91      0.91      0.91     35000\n",
      "\n"
     ]
    }
   ],
   "source": [
    "print('accuracy =', accuracy_score(y_test, model_logreg.predict(X_test_pca)))\n",
    "print(classification_report(y_test, model_logreg.predict(X_test_pca)))"
   ]
  },
  {
   "cell_type": "markdown",
   "metadata": {},
   "source": [
    "# 3. MNIST - SVM"
   ]
  },
  {
   "cell_type": "code",
   "execution_count": 8,
   "metadata": {
    "collapsed": true
   },
   "outputs": [],
   "source": [
    "from sklearn.svm import LinearSVC\n",
    "model_svc = LinearSVC().fit(X_train_pca, y_train)"
   ]
  },
  {
   "cell_type": "code",
   "execution_count": 16,
   "metadata": {},
   "outputs": [
    {
     "name": "stdout",
     "output_type": "stream",
     "text": [
      "accuracy = 0.801485714286\n",
      "             precision    recall  f1-score   support\n",
      "\n",
      "        0.0       0.91      0.79      0.85      3455\n",
      "        1.0       0.86      0.96      0.91      3926\n",
      "        2.0       0.83      0.78      0.80      3441\n",
      "        3.0       0.77      0.80      0.78      3529\n",
      "        4.0       0.71      0.92      0.80      3399\n",
      "        5.0       0.73      0.69      0.71      3185\n",
      "        6.0       0.92      0.82      0.87      3498\n",
      "        7.0       0.81      0.85      0.83      3633\n",
      "        8.0       0.71      0.74      0.73      3471\n",
      "        9.0       0.80      0.63      0.71      3463\n",
      "\n",
      "avg / total       0.81      0.80      0.80     35000\n",
      "\n"
     ]
    }
   ],
   "source": [
    "print('accuracy =', accuracy_score(y_test, model_svc.predict(X_test_pca)))\n",
    "print(classification_report(y_test, model_svc.predict(X_test_pca)))"
   ]
  }
 ],
 "metadata": {
  "kernelspec": {
   "display_name": "Python 3",
   "language": "python",
   "name": "python3"
  },
  "language_info": {
   "codemirror_mode": {
    "name": "ipython",
    "version": 3
   },
   "file_extension": ".py",
   "mimetype": "text/x-python",
   "name": "python",
   "nbconvert_exporter": "python",
   "pygments_lexer": "ipython3",
   "version": "3.5.2"
  }
 },
 "nbformat": 4,
 "nbformat_minor": 2
}
