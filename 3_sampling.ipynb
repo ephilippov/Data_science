{
 "cells": [
  {
   "cell_type": "markdown",
   "metadata": {},
   "source": [
    "# Подсчет доли дубликатов в потоке поисковых запросов"
   ]
  },
  {
   "cell_type": "code",
   "execution_count": 199,
   "metadata": {},
   "outputs": [],
   "source": [
    "import string\n",
    "import random\n",
    "\n",
    "def stream():\n",
    "    while True:\n",
    "        userid = ''.join(random.sample(string.digits, 4))\n",
    "        text = ''.join(random.sample(string.ascii_lowercase, 20))\n",
    "        yield userid, text\n",
    "        if random.random() < 0.05:\n",
    "            yield userid, text\n",
    "        \n",
    "def hash_query(text, hash_size=100000):\n",
    "    result = sum(i ** ord(c) for i, c in enumerate(text, 2))\n",
    "    return result % hash_size"
   ]
  },
  {
   "cell_type": "code",
   "execution_count": 267,
   "metadata": {},
   "outputs": [],
   "source": [
    "import multiprocessing\n",
    "\n",
    "SAMPLE = 0.2\n",
    "\n",
    "\n",
    "from collections import defaultdict\n",
    "counter_query = defaultdict(int)\n",
    "counter_users = defaultdict(int)\n",
    "counter_all = defaultdict(int)\n",
    "\n",
    "for i, query in enumerate(stream()):\n",
    "\n",
    "    text_hash = query[1]\n",
    "    \n",
    "    # все запросы пользователей\n",
    "    counter_all[text_hash] += 1\n",
    "    \n",
    "    # учитываем запросы от 30% пользователей\n",
    "    if hash_query(query[0]) % 1000 < 300:\n",
    "        counter_users[text_hash] += 1\n",
    "        \n",
    "    # учитываем только SAMPLE% запросов\n",
    "    if random.random() < SAMPLE:  # [0..1)\n",
    "        counter_query[text_hash] += 1\n",
    "\n",
    "    if i > 50000:\n",
    "        break"
   ]
  },
  {
   "cell_type": "code",
   "execution_count": 268,
   "metadata": {},
   "outputs": [
    {
     "name": "stdout",
     "output_type": "stream",
     "text": [
      "0.010044070923439582\n",
      "0.0502203546171979\n"
     ]
    }
   ],
   "source": [
    "# семплирование запросов\n",
    "x_query = sum(1 for v in counter_query.values() if v == 1)\n",
    "d_query = sum(1 for v in counter_query.values() if v == 2)\n",
    "\n",
    "d = d_query / (SAMPLE**2)\n",
    "queries = (x_query + d_query) / SAMPLE\n",
    "\n",
    "print(1. * d_query / (x_query + d_query))\n",
    "print(1. * d / queries)"
   ]
  },
  {
   "cell_type": "code",
   "execution_count": 269,
   "metadata": {},
   "outputs": [
    {
     "data": {
      "text/plain": [
       "0.05070499485175146"
      ]
     },
     "execution_count": 269,
     "metadata": {},
     "output_type": "execute_result"
    }
   ],
   "source": [
    "# по всей выборке\n",
    "x_all = sum(1 for v in counter_all.values() if v == 1)\n",
    "d_all = sum(1 for v in counter_all.values() if v == 2)\n",
    "1.* d_all / (x_all + d_all)"
   ]
  },
  {
   "cell_type": "code",
   "execution_count": 270,
   "metadata": {},
   "outputs": [
    {
     "data": {
      "text/plain": [
       "0.050684738105322605"
      ]
     },
     "execution_count": 270,
     "metadata": {},
     "output_type": "execute_result"
    }
   ],
   "source": [
    "# семплирование пользователей\n",
    "x_users = sum(1 for v in counter_users.values() if v == 1)\n",
    "d_users = sum(1 for v in counter_users.values() if v == 2)\n",
    "1.* d_users / (x_users + d_users)"
   ]
  }
 ],
 "metadata": {
  "kernelspec": {
   "display_name": "Python 3",
   "language": "python",
   "name": "python3"
  },
  "language_info": {
   "codemirror_mode": {
    "name": "ipython",
    "version": 3
   },
   "file_extension": ".py",
   "mimetype": "text/x-python",
   "name": "python",
   "nbconvert_exporter": "python",
   "pygments_lexer": "ipython3",
   "version": "3.5.2"
  }
 },
 "nbformat": 4,
 "nbformat_minor": 2
}
