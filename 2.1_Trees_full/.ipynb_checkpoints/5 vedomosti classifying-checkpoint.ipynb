{
 "cells": [
  {
   "cell_type": "markdown",
   "metadata": {},
   "source": [
    "# Классификация тем статей Ведомостей"
   ]
  },
  {
   "cell_type": "markdown",
   "metadata": {},
   "source": [
    "В прошлом ноутбуке мы выкачали архив новостей Ведомостей по разным темам. В ссылку на каждую статью зашита её тема. Попробуем по тексту статьи определить её"
   ]
  },
  {
   "cell_type": "code",
   "execution_count": 1,
   "metadata": {
    "collapsed": true
   },
   "outputs": [],
   "source": [
    "import numpy as np\n",
    "import pandas as pd"
   ]
  },
  {
   "cell_type": "code",
   "execution_count": 2,
   "metadata": {
    "collapsed": true
   },
   "outputs": [],
   "source": [
    "from matplotlib import pyplot as plt\n",
    "%matplotlib inline\n",
    "import seaborn as sns"
   ]
  },
  {
   "cell_type": "markdown",
   "metadata": {},
   "source": [
    "### Данные"
   ]
  },
  {
   "cell_type": "code",
   "execution_count": 3,
   "metadata": {
    "collapsed": true
   },
   "outputs": [],
   "source": [
    "df = pd.read_pickle('data/vedomosti_archive.pkl')"
   ]
  },
  {
   "cell_type": "code",
   "execution_count": 4,
   "metadata": {
    "scrolled": false
   },
   "outputs": [
    {
     "data": {
      "text/html": [
       "<div>\n",
       "<table border=\"1\" class=\"dataframe\">\n",
       "  <thead>\n",
       "    <tr style=\"text-align: right;\">\n",
       "      <th></th>\n",
       "      <th>url</th>\n",
       "      <th>topic</th>\n",
       "      <th>format</th>\n",
       "      <th>header</th>\n",
       "      <th>text</th>\n",
       "      <th>normalized</th>\n",
       "    </tr>\n",
       "  </thead>\n",
       "  <tbody>\n",
       "    <tr>\n",
       "      <th>0</th>\n",
       "      <td>https://www.vedomosti.ru/business/news/2016/01...</td>\n",
       "      <td>business</td>\n",
       "      <td>news</td>\n",
       "      <td>Россия с 1 января запрещает ввоз свинины с Укр...</td>\n",
       "      <td>Россельхознадзор с 1 января вводит запрет на п...</td>\n",
       "      <td>россельхознадзор с 1 январь вводить запрет на ...</td>\n",
       "    </tr>\n",
       "    <tr>\n",
       "      <th>1</th>\n",
       "      <td>https://www.vedomosti.ru/politics/news/2016/01...</td>\n",
       "      <td>politics</td>\n",
       "      <td>news</td>\n",
       "      <td>Эрдоган назвал гитлеровскую Германию примером ...</td>\n",
       "      <td>Президент Турции Тайип Эрдоган в качестве прим...</td>\n",
       "      <td>президент турция тайип эрдогать в качество при...</td>\n",
       "    </tr>\n",
       "    <tr>\n",
       "      <th>2</th>\n",
       "      <td>https://www.vedomosti.ru/politics/news/2016/01...</td>\n",
       "      <td>politics</td>\n",
       "      <td>news</td>\n",
       "      <td>Саудовская Аравия открыла посольство в Ираке с...</td>\n",
       "      <td>Саудовская Аравия спустя 25 лет открыла в стол...</td>\n",
       "      <td>саудовский аравия спустя 25 год открыть в стол...</td>\n",
       "    </tr>\n",
       "    <tr>\n",
       "      <th>3</th>\n",
       "      <td>https://www.vedomosti.ru/politics/news/2016/01...</td>\n",
       "      <td>politics</td>\n",
       "      <td>news</td>\n",
       "      <td>США и их союзники нанесли более 20 авиаударов ...</td>\n",
       "      <td>США и их союзники по антитеррористической коал...</td>\n",
       "      <td>сша и они союзник по антитеррористический коал...</td>\n",
       "    </tr>\n",
       "    <tr>\n",
       "      <th>4</th>\n",
       "      <td>https://www.vedomosti.ru/business/news/2016/01...</td>\n",
       "      <td>business</td>\n",
       "      <td>news</td>\n",
       "      <td>Экспортная пошлина на нефть в России с 1 январ...</td>\n",
       "      <td>Экспортная пошлина на нефть в России, по данны...</td>\n",
       "      <td>экспортный пошлина на нефть в россия , по данн...</td>\n",
       "    </tr>\n",
       "  </tbody>\n",
       "</table>\n",
       "</div>"
      ],
      "text/plain": [
       "                                                 url     topic format  \\\n",
       "0  https://www.vedomosti.ru/business/news/2016/01...  business   news   \n",
       "1  https://www.vedomosti.ru/politics/news/2016/01...  politics   news   \n",
       "2  https://www.vedomosti.ru/politics/news/2016/01...  politics   news   \n",
       "3  https://www.vedomosti.ru/politics/news/2016/01...  politics   news   \n",
       "4  https://www.vedomosti.ru/business/news/2016/01...  business   news   \n",
       "\n",
       "                                              header  \\\n",
       "0  Россия с 1 января запрещает ввоз свинины с Укр...   \n",
       "1  Эрдоган назвал гитлеровскую Германию примером ...   \n",
       "2  Саудовская Аравия открыла посольство в Ираке с...   \n",
       "3  США и их союзники нанесли более 20 авиаударов ...   \n",
       "4  Экспортная пошлина на нефть в России с 1 январ...   \n",
       "\n",
       "                                                text  \\\n",
       "0  Россельхознадзор с 1 января вводит запрет на п...   \n",
       "1  Президент Турции Тайип Эрдоган в качестве прим...   \n",
       "2  Саудовская Аравия спустя 25 лет открыла в стол...   \n",
       "3  США и их союзники по антитеррористической коал...   \n",
       "4  Экспортная пошлина на нефть в России, по данны...   \n",
       "\n",
       "                                          normalized  \n",
       "0  россельхознадзор с 1 январь вводить запрет на ...  \n",
       "1  президент турция тайип эрдогать в качество при...  \n",
       "2  саудовский аравия спустя 25 год открыть в стол...  \n",
       "3  сша и они союзник по антитеррористический коал...  \n",
       "4  экспортный пошлина на нефть в россия , по данн...  "
      ]
     },
     "execution_count": 4,
     "metadata": {},
     "output_type": "execute_result"
    }
   ],
   "source": [
    "df.head()"
   ]
  },
  {
   "cell_type": "code",
   "execution_count": 5,
   "metadata": {},
   "outputs": [
    {
     "data": {
      "text/plain": [
       "politics      3098\n",
       "business      2076\n",
       "finance       1149\n",
       "newspaper      863\n",
       "economics      809\n",
       "technology     692\n",
       "realty         357\n",
       "opinion        255\n",
       "auto           244\n",
       "lifestyle      202\n",
       "management     176\n",
       "library         79\n",
       "Name: topic, dtype: int64"
      ]
     },
     "execution_count": 5,
     "metadata": {},
     "output_type": "execute_result"
    }
   ],
   "source": [
    "df.topic.value_counts()"
   ]
  },
  {
   "cell_type": "markdown",
   "metadata": {},
   "source": [
    "### Оставим себе задачу бинарной классификации: политика или финансы?"
   ]
  },
  {
   "cell_type": "code",
   "execution_count": 6,
   "metadata": {
    "collapsed": true
   },
   "outputs": [],
   "source": [
    "df = df[(df.topic=='politics')|(df.topic=='finance')]\n",
    "df.index = range(len(df))"
   ]
  },
  {
   "cell_type": "code",
   "execution_count": 7,
   "metadata": {
    "collapsed": true
   },
   "outputs": [],
   "source": [
    "df[\"topic\"] = df.topic.apply(lambda x: 1 if x=='politics' else 0)"
   ]
  },
  {
   "cell_type": "code",
   "execution_count": 8,
   "metadata": {},
   "outputs": [
    {
     "data": {
      "text/plain": [
       "1    3098\n",
       "0    1149\n",
       "Name: topic, dtype: int64"
      ]
     },
     "execution_count": 8,
     "metadata": {},
     "output_type": "execute_result"
    }
   ],
   "source": [
    "df.topic.value_counts()"
   ]
  },
  {
   "cell_type": "markdown",
   "metadata": {},
   "source": [
    "Уберём все токены, которые не являются словами, при этом все числа заменив на \"num\""
   ]
  },
  {
   "cell_type": "code",
   "execution_count": 9,
   "metadata": {
    "collapsed": true
   },
   "outputs": [],
   "source": [
    "df[\"normalized_words\"] = df.normalized.apply(lambda x: ' '.join([w if w.isalpha() else 'num' for w in x.split() if w.isalpha() or w.isdigit()]))"
   ]
  },
  {
   "cell_type": "markdown",
   "metadata": {},
   "source": [
    "### Векторизуем тексты"
   ]
  },
  {
   "cell_type": "markdown",
   "metadata": {},
   "source": [
    "Здесь мы немного забежим вперёд и используем векторизацию текста в мешок слов ([bag of words](https://en.wikipedia.org/wiki/Bag-of-words_model))"
   ]
  },
  {
   "cell_type": "code",
   "execution_count": 10,
   "metadata": {
    "collapsed": true
   },
   "outputs": [],
   "source": [
    "from sklearn.feature_extraction.text import CountVectorizer"
   ]
  },
  {
   "cell_type": "code",
   "execution_count": 11,
   "metadata": {
    "collapsed": true
   },
   "outputs": [],
   "source": [
    "vectorizer = CountVectorizer(max_features=5000)"
   ]
  },
  {
   "cell_type": "code",
   "execution_count": 12,
   "metadata": {},
   "outputs": [
    {
     "name": "stdout",
     "output_type": "stream",
     "text": [
      "CPU times: user 668 ms, sys: 50.5 ms, total: 718 ms\n",
      "Wall time: 720 ms\n"
     ]
    }
   ],
   "source": [
    "%%time\n",
    "X = vectorizer.fit_transform(df.normalized_words).toarray()"
   ]
  },
  {
   "cell_type": "code",
   "execution_count": 13,
   "metadata": {
    "collapsed": true
   },
   "outputs": [],
   "source": [
    "y = df.topic"
   ]
  },
  {
   "cell_type": "code",
   "execution_count": 14,
   "metadata": {
    "collapsed": true
   },
   "outputs": [],
   "source": [
    "from sklearn.model_selection import train_test_split"
   ]
  },
  {
   "cell_type": "code",
   "execution_count": 15,
   "metadata": {
    "collapsed": true
   },
   "outputs": [],
   "source": [
    "X_train, X_test, y_train, y_test = train_test_split(X, y, random_state=42, test_size=0.2)"
   ]
  },
  {
   "cell_type": "code",
   "execution_count": 16,
   "metadata": {},
   "outputs": [
    {
     "data": {
      "text/plain": [
       "1    2485\n",
       "0     912\n",
       "Name: topic, dtype: int64"
      ]
     },
     "execution_count": 16,
     "metadata": {},
     "output_type": "execute_result"
    }
   ],
   "source": [
    "y_train.value_counts()"
   ]
  },
  {
   "cell_type": "markdown",
   "metadata": {},
   "source": [
    "### Обучим обычным деревом"
   ]
  },
  {
   "cell_type": "code",
   "execution_count": 17,
   "metadata": {
    "collapsed": true
   },
   "outputs": [],
   "source": [
    "from sklearn.tree import DecisionTreeClassifier"
   ]
  },
  {
   "cell_type": "markdown",
   "metadata": {},
   "source": [
    "но не забудем валидацию"
   ]
  },
  {
   "cell_type": "code",
   "execution_count": 18,
   "metadata": {
    "collapsed": true
   },
   "outputs": [],
   "source": [
    "from sklearn.model_selection import GridSearchCV"
   ]
  },
  {
   "cell_type": "code",
   "execution_count": 19,
   "metadata": {
    "collapsed": true
   },
   "outputs": [],
   "source": [
    "depths = np.arange(2, 15, 2)\n",
    "#min_samples_leafs = np.arange(1, 10, 2)\n",
    "grid = {'max_depth': depths}#, 'min_samples_leaf': min_samples_leafs}\n",
    "gridsearch = GridSearchCV(DecisionTreeClassifier(), grid, scoring='f1', cv=10)"
   ]
  },
  {
   "cell_type": "code",
   "execution_count": 20,
   "metadata": {
    "scrolled": false
   },
   "outputs": [
    {
     "name": "stdout",
     "output_type": "stream",
     "text": [
      "CPU times: user 1min 22s, sys: 3.62 s, total: 1min 25s\n",
      "Wall time: 1min 26s\n"
     ]
    },
    {
     "data": {
      "text/plain": [
       "GridSearchCV(cv=10, error_score='raise',\n",
       "       estimator=DecisionTreeClassifier(class_weight=None, criterion='gini', max_depth=None,\n",
       "            max_features=None, max_leaf_nodes=None,\n",
       "            min_impurity_split=1e-07, min_samples_leaf=1,\n",
       "            min_samples_split=2, min_weight_fraction_leaf=0.0,\n",
       "            presort=False, random_state=None, splitter='best'),\n",
       "       fit_params={}, iid=True, n_jobs=1,\n",
       "       param_grid={'max_depth': array([ 2,  4,  6,  8, 10, 12, 14])},\n",
       "       pre_dispatch='2*n_jobs', refit=True, return_train_score=True,\n",
       "       scoring='f1', verbose=0)"
      ]
     },
     "execution_count": 20,
     "metadata": {},
     "output_type": "execute_result"
    }
   ],
   "source": [
    "%%time\n",
    "gridsearch.fit(X_train, y_train)"
   ]
  },
  {
   "cell_type": "code",
   "execution_count": 21,
   "metadata": {},
   "outputs": [
    {
     "name": "stderr",
     "output_type": "stream",
     "text": [
      "/Users/kuznetsovn/anaconda/lib/python3.6/site-packages/sklearn/model_selection/_search.py:667: DeprecationWarning: The grid_scores_ attribute was deprecated in version 0.18 in favor of the more elaborate cv_results_ attribute. The grid_scores_ attribute will not be available from 0.20\n",
      "  DeprecationWarning)\n"
     ]
    },
    {
     "data": {
      "text/plain": [
       "[mean: 0.96770, std: 0.00629, params: {'max_depth': 10},\n",
       " mean: 0.96721, std: 0.00715, params: {'max_depth': 12},\n",
       " mean: 0.96643, std: 0.00527, params: {'max_depth': 8},\n",
       " mean: 0.96642, std: 0.00674, params: {'max_depth': 6},\n",
       " mean: 0.96602, std: 0.00609, params: {'max_depth': 14},\n",
       " mean: 0.95711, std: 0.01011, params: {'max_depth': 4},\n",
       " mean: 0.93424, std: 0.01119, params: {'max_depth': 2}]"
      ]
     },
     "execution_count": 21,
     "metadata": {},
     "output_type": "execute_result"
    }
   ],
   "source": [
    "sorted(gridsearch.grid_scores_, key = lambda x: -x.mean_validation_score)[:10]"
   ]
  },
  {
   "cell_type": "code",
   "execution_count": 22,
   "metadata": {},
   "outputs": [
    {
     "name": "stderr",
     "output_type": "stream",
     "text": [
      "/Users/kuznetsovn/anaconda/lib/python3.6/site-packages/sklearn/model_selection/_search.py:667: DeprecationWarning: The grid_scores_ attribute was deprecated in version 0.18 in favor of the more elaborate cv_results_ attribute. The grid_scores_ attribute will not be available from 0.20\n",
      "  DeprecationWarning)\n"
     ]
    },
    {
     "data": {
      "text/plain": [
       "<matplotlib.collections.PathCollection at 0x110332358>"
      ]
     },
     "execution_count": 22,
     "metadata": {},
     "output_type": "execute_result"
    },
    {
     "data": {
      "image/png": "[encoded data removed]",
      "text/plain": [
       "<matplotlib.figure.Figure at 0x1103388d0>"
      ]
     },
     "metadata": {},
     "output_type": "display_data"
    }
   ],
   "source": [
    "scores = [x.mean_validation_score for x in gridsearch.grid_scores_]# if x.parameters['min_samples_leaf']==1]\n",
    "plt.plot(depths, scores)\n",
    "plt.scatter(depths, scores)\n",
    "best_point = np.argmax(scores)\n",
    "plt.scatter(depths[best_point], scores[best_point], c='g', s=100)"
   ]
  },
  {
   "cell_type": "markdown",
   "metadata": {},
   "source": [
    "Итак, кросс-валидация помогла нам выбрать глубину дерева равной 10"
   ]
  },
  {
   "cell_type": "markdown",
   "metadata": {},
   "source": [
    "Сделаем предсказание для тестовой выборки"
   ]
  },
  {
   "cell_type": "code",
   "execution_count": 23,
   "metadata": {
    "collapsed": true
   },
   "outputs": [],
   "source": [
    "clf = DecisionTreeClassifier(max_depth=10)#, min_samples_leaf=10)"
   ]
  },
  {
   "cell_type": "code",
   "execution_count": 24,
   "metadata": {},
   "outputs": [
    {
     "name": "stdout",
     "output_type": "stream",
     "text": [
      "CPU times: user 1.57 s, sys: 21.6 ms, total: 1.59 s\n",
      "Wall time: 1.59 s\n"
     ]
    },
    {
     "data": {
      "text/plain": [
       "DecisionTreeClassifier(class_weight=None, criterion='gini', max_depth=10,\n",
       "            max_features=None, max_leaf_nodes=None,\n",
       "            min_impurity_split=1e-07, min_samples_leaf=1,\n",
       "            min_samples_split=2, min_weight_fraction_leaf=0.0,\n",
       "            presort=False, random_state=None, splitter='best')"
      ]
     },
     "execution_count": 24,
     "metadata": {},
     "output_type": "execute_result"
    }
   ],
   "source": [
    "%%time\n",
    "clf.fit(X_train, y_train)"
   ]
  },
  {
   "cell_type": "code",
   "execution_count": 25,
   "metadata": {
    "collapsed": true
   },
   "outputs": [],
   "source": [
    "y_pred = clf.predict(X_test)\n",
    "y_pred_proba = clf.predict_proba(X_test)"
   ]
  },
  {
   "cell_type": "markdown",
   "metadata": {},
   "source": [
    "### Оценим качество"
   ]
  },
  {
   "cell_type": "code",
   "execution_count": 26,
   "metadata": {
    "collapsed": true
   },
   "outputs": [],
   "source": [
    "from sklearn import metrics"
   ]
  },
  {
   "cell_type": "code",
   "execution_count": 27,
   "metadata": {},
   "outputs": [
    {
     "data": {
      "text/plain": [
       "0.95294117647058818"
      ]
     },
     "execution_count": 27,
     "metadata": {},
     "output_type": "execute_result"
    }
   ],
   "source": [
    "metrics.accuracy_score(y_test, y_pred)"
   ]
  },
  {
   "cell_type": "code",
   "execution_count": 28,
   "metadata": {},
   "outputs": [
    {
     "data": {
      "text/plain": [
       "0.95548489666136727"
      ]
     },
     "execution_count": 28,
     "metadata": {},
     "output_type": "execute_result"
    }
   ],
   "source": [
    "metrics.precision_score(y_test, y_pred)"
   ]
  },
  {
   "cell_type": "code",
   "execution_count": 29,
   "metadata": {},
   "outputs": [
    {
     "data": {
      "text/plain": [
       "0.9804241435562806"
      ]
     },
     "execution_count": 29,
     "metadata": {},
     "output_type": "execute_result"
    }
   ],
   "source": [
    "metrics.recall_score(y_test, y_pred)"
   ]
  },
  {
   "cell_type": "code",
   "execution_count": 30,
   "metadata": {},
   "outputs": [
    {
     "data": {
      "text/plain": [
       "0.96779388083735907"
      ]
     },
     "execution_count": 30,
     "metadata": {},
     "output_type": "execute_result"
    }
   ],
   "source": [
    "metrics.f1_score(y_test, y_pred)"
   ]
  },
  {
   "cell_type": "code",
   "execution_count": 31,
   "metadata": {},
   "outputs": [
    {
     "data": {
      "text/plain": [
       "0.90707663080512935"
      ]
     },
     "execution_count": 31,
     "metadata": {},
     "output_type": "execute_result"
    }
   ],
   "source": [
    "metrics.roc_auc_score(y_test, y_pred_proba[:,1])"
   ]
  },
  {
   "cell_type": "markdown",
   "metadata": {},
   "source": [
    "### Посмотрим на дерево решений"
   ]
  },
  {
   "cell_type": "markdown",
   "metadata": {},
   "source": [
    "http://www.webgraphviz.com"
   ]
  },
  {
   "cell_type": "code",
   "execution_count": 32,
   "metadata": {
    "collapsed": true
   },
   "outputs": [],
   "source": [
    "from sklearn.tree import export_graphviz\n",
    "\n",
    "def get_tree_dot_view(clf, feature_names=None, class_names=None):\n",
    "    print(export_graphviz(clf, out_file=None, filled=True, feature_names=feature_names, class_names=class_names))"
   ]
  },
  {
   "cell_type": "code",
   "execution_count": 33,
   "metadata": {
    "scrolled": false
   },
   "outputs": [
    {
     "name": "stdout",
     "output_type": "stream",
     "text": [
      "digraph Tree {\n",
      "node [shape=box, style=\"filled\", color=\"black\"] ;\n",
      "0 [label=\"банк <= 0.5\\ngini = 0.3928\\nsamples = 3397\\nvalue = [912, 2485]\\nclass = politics\", fillcolor=\"#399de5a1\"] ;\n",
      "1 [label=\"нефть <= 0.5\\ngini = 0.2653\\nsamples = 2922\\nvalue = [460, 2462]\\nclass = politics\", fillcolor=\"#399de5cf\"] ;\n",
      "0 -> 1 [labeldistance=2.5, labelangle=45, headlabel=\"True\"] ;\n",
      "2 [label=\"цб <= 0.5\\ngini = 0.1867\\nsamples = 2716\\nvalue = [283, 2433]\\nclass = politics\", fillcolor=\"#399de5e1\"] ;\n",
      "1 -> 2 ;\n",
      "3 [label=\"банка <= 0.5\\ngini = 0.1396\\nsamples = 2623\\nvalue = [198, 2425]\\nclass = politics\", fillcolor=\"#399de5ea\"] ;\n",
      "2 -> 3 ;\n",
      "4 [label=\"биржа <= 0.5\\ngini = 0.1029\\nsamples = 2535\\nvalue = [138, 2397]\\nclass = politics\", fillcolor=\"#399de5f0\"] ;\n",
      "3 -> 4 ;\n",
      "5 [label=\"прогнозный <= 1.5\\ngini = 0.0812\\nsamples = 2500\\nvalue = [106, 2394]\\nclass = politics\", fillcolor=\"#399de5f4\"] ;\n",
      "4 -> 5 ;\n",
      "6 [label=\"рынок <= 0.5\\ngini = 0.064\\nsamples = 2476\\nvalue = [82, 2394]\\nclass = politics\", fillcolor=\"#399de5f6\"] ;\n",
      "5 -> 6 ;\n",
      "7 [label=\"центробанк <= 0.5\\ngini = 0.0423\\nsamples = 2404\\nvalue = [52, 2352]\\nclass = politics\", fillcolor=\"#399de5f9\"] ;\n",
      "6 -> 7 ;\n",
      "8 [label=\"сбербанк <= 1.5\\ngini = 0.0384\\nsamples = 2399\\nvalue = [47, 2352]\\nclass = politics\", fillcolor=\"#399de5fa\"] ;\n",
      "7 -> 8 ;\n",
      "9 [label=\"франк <= 0.5\\ngini = 0.0345\\nsamples = 2392\\nvalue = [42, 2350]\\nclass = politics\", fillcolor=\"#399de5fa\"] ;\n",
      "8 -> 9 ;\n",
      "10 [label=\"gini = 0.0321\\nsamples = 2389\\nvalue = [39, 2350]\\nclass = politics\", fillcolor=\"#399de5fb\"] ;\n",
      "9 -> 10 ;\n",
      "11 [label=\"gini = 0.0\\nsamples = 3\\nvalue = [3, 0]\\nclass = finance\", fillcolor=\"#e58139ff\"] ;\n",
      "9 -> 11 ;\n",
      "12 [label=\"слово <= 0.5\\ngini = 0.4082\\nsamples = 7\\nvalue = [5, 2]\\nclass = finance\", fillcolor=\"#e5813999\"] ;\n",
      "8 -> 12 ;\n",
      "13 [label=\"gini = 0.0\\nsamples = 5\\nvalue = [5, 0]\\nclass = finance\", fillcolor=\"#e58139ff\"] ;\n",
      "12 -> 13 ;\n",
      "14 [label=\"gini = 0.0\\nsamples = 2\\nvalue = [0, 2]\\nclass = politics\", fillcolor=\"#399de5ff\"] ;\n",
      "12 -> 14 ;\n",
      "15 [label=\"gini = 0.0\\nsamples = 5\\nvalue = [5, 0]\\nclass = finance\", fillcolor=\"#e58139ff\"] ;\n",
      "7 -> 15 ;\n",
      "16 [label=\"инвестор <= 0.5\\ngini = 0.4861\\nsamples = 72\\nvalue = [30, 42]\\nclass = politics\", fillcolor=\"#399de549\"] ;\n",
      "6 -> 16 ;\n",
      "17 [label=\"страховщик <= 0.5\\ngini = 0.437\\nsamples = 62\\nvalue = [20, 42]\\nclass = politics\", fillcolor=\"#399de586\"] ;\n",
      "16 -> 17 ;\n",
      "18 [label=\"они <= 0.5\\ngini = 0.3878\\nsamples = 57\\nvalue = [15, 42]\\nclass = politics\", fillcolor=\"#399de5a4\"] ;\n",
      "17 -> 18 ;\n",
      "19 [label=\"gini = 0.497\\nsamples = 26\\nvalue = [12, 14]\\nclass = politics\", fillcolor=\"#399de524\"] ;\n",
      "18 -> 19 ;\n",
      "20 [label=\"gini = 0.1748\\nsamples = 31\\nvalue = [3, 28]\\nclass = politics\", fillcolor=\"#399de5e4\"] ;\n",
      "18 -> 20 ;\n",
      "21 [label=\"gini = 0.0\\nsamples = 5\\nvalue = [5, 0]\\nclass = finance\", fillcolor=\"#e58139ff\"] ;\n",
      "17 -> 21 ;\n",
      "22 [label=\"gini = 0.0\\nsamples = 10\\nvalue = [10, 0]\\nclass = finance\", fillcolor=\"#e58139ff\"] ;\n",
      "16 -> 22 ;\n",
      "23 [label=\"gini = 0.0\\nsamples = 24\\nvalue = [24, 0]\\nclass = finance\", fillcolor=\"#e58139ff\"] ;\n",
      "5 -> 23 ;\n",
      "24 [label=\"орган <= 0.5\\ngini = 0.1567\\nsamples = 35\\nvalue = [32, 3]\\nclass = finance\", fillcolor=\"#e58139e7\"] ;\n",
      "4 -> 24 ;\n",
      "25 [label=\"gini = 0.0\\nsamples = 31\\nvalue = [31, 0]\\nclass = finance\", fillcolor=\"#e58139ff\"] ;\n",
      "24 -> 25 ;\n",
      "26 [label=\"два <= 2.0\\ngini = 0.375\\nsamples = 4\\nvalue = [1, 3]\\nclass = politics\", fillcolor=\"#399de5aa\"] ;\n",
      "24 -> 26 ;\n",
      "27 [label=\"gini = 0.0\\nsamples = 3\\nvalue = [0, 3]\\nclass = politics\", fillcolor=\"#399de5ff\"] ;\n",
      "26 -> 27 ;\n",
      "28 [label=\"gini = 0.0\\nsamples = 1\\nvalue = [1, 0]\\nclass = finance\", fillcolor=\"#e58139ff\"] ;\n",
      "26 -> 28 ;\n",
      "29 [label=\"документ <= 0.5\\ngini = 0.4339\\nsamples = 88\\nvalue = [60, 28]\\nclass = finance\", fillcolor=\"#e5813988\"] ;\n",
      "3 -> 29 ;\n",
      "30 [label=\"чиновник <= 0.5\\ngini = 0.32\\nsamples = 70\\nvalue = [56, 14]\\nclass = finance\", fillcolor=\"#e58139bf\"] ;\n",
      "29 -> 30 ;\n",
      "31 [label=\"имя <= 0.5\\ngini = 0.2571\\nsamples = 66\\nvalue = [56, 10]\\nclass = finance\", fillcolor=\"#e58139d1\"] ;\n",
      "30 -> 31 ;\n",
      "32 [label=\"список <= 2.0\\ngini = 0.1327\\nsamples = 56\\nvalue = [52, 4]\\nclass = finance\", fillcolor=\"#e58139eb\"] ;\n",
      "31 -> 32 ;\n",
      "33 [label=\"участвовать <= 0.5\\ngini = 0.0713\\nsamples = 54\\nvalue = [52, 2]\\nclass = finance\", fillcolor=\"#e58139f5\"] ;\n",
      "32 -> 33 ;\n",
      "34 [label=\"gini = 0.0\\nsamples = 51\\nvalue = [51, 0]\\nclass = finance\", fillcolor=\"#e58139ff\"] ;\n",
      "33 -> 34 ;\n",
      "35 [label=\"что <= 2.0\\ngini = 0.4444\\nsamples = 3\\nvalue = [1, 2]\\nclass = politics\", fillcolor=\"#399de57f\"] ;\n",
      "33 -> 35 ;\n",
      "36 [label=\"gini = 0.0\\nsamples = 1\\nvalue = [1, 0]\\nclass = finance\", fillcolor=\"#e58139ff\"] ;\n",
      "35 -> 36 ;\n",
      "37 [label=\"gini = 0.0\\nsamples = 2\\nvalue = [0, 2]\\nclass = politics\", fillcolor=\"#399de5ff\"] ;\n",
      "35 -> 37 ;\n",
      "38 [label=\"gini = 0.0\\nsamples = 2\\nvalue = [0, 2]\\nclass = politics\", fillcolor=\"#399de5ff\"] ;\n",
      "32 -> 38 ;\n",
      "39 [label=\"num <= 7.0\\ngini = 0.48\\nsamples = 10\\nvalue = [4, 6]\\nclass = politics\", fillcolor=\"#399de555\"] ;\n",
      "31 -> 39 ;\n",
      "40 [label=\"gini = 0.0\\nsamples = 5\\nvalue = [0, 5]\\nclass = politics\", fillcolor=\"#399de5ff\"] ;\n",
      "39 -> 40 ;\n",
      "41 [label=\"сегодня <= 0.5\\ngini = 0.32\\nsamples = 5\\nvalue = [4, 1]\\nclass = finance\", fillcolor=\"#e58139bf\"] ;\n",
      "39 -> 41 ;\n",
      "42 [label=\"gini = 0.0\\nsamples = 4\\nvalue = [4, 0]\\nclass = finance\", fillcolor=\"#e58139ff\"] ;\n",
      "41 -> 42 ;\n",
      "43 [label=\"gini = 0.0\\nsamples = 1\\nvalue = [0, 1]\\nclass = politics\", fillcolor=\"#399de5ff\"] ;\n",
      "41 -> 43 ;\n",
      "44 [label=\"gini = 0.0\\nsamples = 4\\nvalue = [0, 4]\\nclass = politics\", fillcolor=\"#399de5ff\"] ;\n",
      "30 -> 44 ;\n",
      "45 [label=\"банка <= 2.5\\ngini = 0.3457\\nsamples = 18\\nvalue = [4, 14]\\nclass = politics\", fillcolor=\"#399de5b6\"] ;\n",
      "29 -> 45 ;\n",
      "46 [label=\"gini = 0.0\\nsamples = 13\\nvalue = [0, 13]\\nclass = politics\", fillcolor=\"#399de5ff\"] ;\n",
      "45 -> 46 ;\n",
      "47 [label=\"банкир <= 0.5\\ngini = 0.32\\nsamples = 5\\nvalue = [4, 1]\\nclass = finance\", fillcolor=\"#e58139bf\"] ;\n",
      "45 -> 47 ;\n",
      "48 [label=\"gini = 0.0\\nsamples = 4\\nvalue = [4, 0]\\nclass = finance\", fillcolor=\"#e58139ff\"] ;\n",
      "47 -> 48 ;\n",
      "49 [label=\"gini = 0.0\\nsamples = 1\\nvalue = [0, 1]\\nclass = politics\", fillcolor=\"#399de5ff\"] ;\n",
      "47 -> 49 ;\n",
      "50 [label=\"местный <= 0.5\\ngini = 0.1572\\nsamples = 93\\nvalue = [85, 8]\\nclass = finance\", fillcolor=\"#e58139e7\"] ;\n",
      "2 -> 50 ;\n",
      "51 [label=\"известно <= 0.5\\ngini = 0.1049\\nsamples = 90\\nvalue = [85, 5]\\nclass = finance\", fillcolor=\"#e58139f0\"] ;\n",
      "50 -> 51 ;\n",
      "52 [label=\"валюта <= 3.5\\ngini = 0.0454\\nsamples = 86\\nvalue = [84, 2]\\nclass = finance\", fillcolor=\"#e58139f9\"] ;\n",
      "51 -> 52 ;\n",
      "53 [label=\"gini = 0.0\\nsamples = 83\\nvalue = [83, 0]\\nclass = finance\", fillcolor=\"#e58139ff\"] ;\n",
      "52 -> 53 ;\n",
      "54 [label=\"раз <= 0.5\\ngini = 0.4444\\nsamples = 3\\nvalue = [1, 2]\\nclass = politics\", fillcolor=\"#399de57f\"] ;\n",
      "52 -> 54 ;\n",
      "55 [label=\"gini = 0.0\\nsamples = 1\\nvalue = [1, 0]\\nclass = finance\", fillcolor=\"#e58139ff\"] ;\n",
      "54 -> 55 ;\n",
      "56 [label=\"gini = 0.0\\nsamples = 2\\nvalue = [0, 2]\\nclass = politics\", fillcolor=\"#399de5ff\"] ;\n",
      "54 -> 56 ;\n",
      "57 [label=\"находиться <= 1.5\\ngini = 0.375\\nsamples = 4\\nvalue = [1, 3]\\nclass = politics\", fillcolor=\"#399de5aa\"] ;\n",
      "51 -> 57 ;\n",
      "58 [label=\"gini = 0.0\\nsamples = 3\\nvalue = [0, 3]\\nclass = politics\", fillcolor=\"#399de5ff\"] ;\n",
      "57 -> 58 ;\n",
      "59 [label=\"gini = 0.0\\nsamples = 1\\nvalue = [1, 0]\\nclass = finance\", fillcolor=\"#e58139ff\"] ;\n",
      "57 -> 59 ;\n",
      "60 [label=\"gini = 0.0\\nsamples = 3\\nvalue = [0, 3]\\nclass = politics\", fillcolor=\"#399de5ff\"] ;\n",
      "50 -> 60 ;\n",
      "61 [label=\"запретить <= 0.5\\ngini = 0.2419\\nsamples = 206\\nvalue = [177, 29]\\nclass = finance\", fillcolor=\"#e58139d5\"] ;\n",
      "1 -> 61 ;\n",
      "62 [label=\"перед <= 0.5\\ngini = 0.1447\\nsamples = 191\\nvalue = [176, 15]\\nclass = finance\", fillcolor=\"#e58139e9\"] ;\n",
      "61 -> 62 ;\n",
      "63 [label=\"сирийский <= 0.5\\ngini = 0.1017\\nsamples = 186\\nvalue = [176, 10]\\nclass = finance\", fillcolor=\"#e58139f1\"] ;\n",
      "62 -> 63 ;\n",
      "64 [label=\"японский <= 0.5\\ngini = 0.0736\\nsamples = 183\\nvalue = [176, 7]\\nclass = finance\", fillcolor=\"#e58139f5\"] ;\n",
      "63 -> 64 ;\n",
      "65 [label=\"там <= 0.5\\ngini = 0.0537\\nsamples = 181\\nvalue = [176, 5]\\nclass = finance\", fillcolor=\"#e58139f8\"] ;\n",
      "64 -> 65 ;\n",
      "66 [label=\"бюджет <= 2.5\\ngini = 0.033\\nsamples = 179\\nvalue = [176, 3]\\nclass = finance\", fillcolor=\"#e58139fb\"] ;\n",
      "65 -> 66 ;\n",
      "67 [label=\"москва <= 1.5\\ngini = 0.0113\\nsamples = 176\\nvalue = [175, 1]\\nclass = finance\", fillcolor=\"#e58139fe\"] ;\n",
      "66 -> 67 ;\n",
      "68 [label=\"gini = 0.0\\nsamples = 175\\nvalue = [175, 0]\\nclass = finance\", fillcolor=\"#e58139ff\"] ;\n",
      "67 -> 68 ;\n",
      "69 [label=\"gini = 0.0\\nsamples = 1\\nvalue = [0, 1]\\nclass = politics\", fillcolor=\"#399de5ff\"] ;\n",
      "67 -> 69 ;\n",
      "70 [label=\"ирак <= 1.0\\ngini = 0.4444\\nsamples = 3\\nvalue = [1, 2]\\nclass = politics\", fillcolor=\"#399de57f\"] ;\n",
      "66 -> 70 ;\n",
      "71 [label=\"gini = 0.0\\nsamples = 2\\nvalue = [0, 2]\\nclass = politics\", fillcolor=\"#399de5ff\"] ;\n",
      "70 -> 71 ;\n",
      "72 [label=\"gini = 0.0\\nsamples = 1\\nvalue = [1, 0]\\nclass = finance\", fillcolor=\"#e58139ff\"] ;\n",
      "70 -> 72 ;\n",
      "73 [label=\"gini = 0.0\\nsamples = 2\\nvalue = [0, 2]\\nclass = politics\", fillcolor=\"#399de5ff\"] ;\n",
      "65 -> 73 ;\n",
      "74 [label=\"gini = 0.0\\nsamples = 2\\nvalue = [0, 2]\\nclass = politics\", fillcolor=\"#399de5ff\"] ;\n",
      "64 -> 74 ;\n",
      "75 [label=\"gini = 0.0\\nsamples = 3\\nvalue = [0, 3]\\nclass = politics\", fillcolor=\"#399de5ff\"] ;\n",
      "63 -> 75 ;\n",
      "76 [label=\"gini = 0.0\\nsamples = 5\\nvalue = [0, 5]\\nclass = politics\", fillcolor=\"#399de5ff\"] ;\n",
      "62 -> 76 ;\n",
      "77 [label=\"генпрокуратура <= 0.5\\ngini = 0.1244\\nsamples = 15\\nvalue = [1, 14]\\nclass = politics\", fillcolor=\"#399de5ed\"] ;\n",
      "61 -> 77 ;\n",
      "78 [label=\"gini = 0.0\\nsamples = 14\\nvalue = [0, 14]\\nclass = politics\", fillcolor=\"#399de5ff\"] ;\n",
      "77 -> 78 ;\n",
      "79 [label=\"gini = 0.0\\nsamples = 1\\nvalue = [1, 0]\\nclass = finance\", fillcolor=\"#e58139ff\"] ;\n",
      "77 -> 79 ;\n",
      "80 [label=\"сми <= 0.5\\ngini = 0.0922\\nsamples = 475\\nvalue = [452, 23]\\nclass = finance\", fillcolor=\"#e58139f2\"] ;\n",
      "0 -> 80 [labeldistance=2.5, labelangle=-45, headlabel=\"False\"] ;\n",
      "81 [label=\"залоговый <= 0.5\\ngini = 0.0588\\nsamples = 462\\nvalue = [448, 14]\\nclass = finance\", fillcolor=\"#e58139f7\"] ;\n",
      "80 -> 81 ;\n",
      "82 [label=\"фбр <= 1.0\\ngini = 0.0346\\nsamples = 454\\nvalue = [446, 8]\\nclass = finance\", fillcolor=\"#e58139fa\"] ;\n",
      "81 -> 82 ;\n",
      "83 [label=\"призвать <= 0.5\\ngini = 0.0262\\nsamples = 452\\nvalue = [446, 6]\\nclass = finance\", fillcolor=\"#e58139fc\"] ;\n",
      "82 -> 83 ;\n",
      "84 [label=\"возбуждение <= 0.5\\ngini = 0.0177\\nsamples = 449\\nvalue = [445, 4]\\nclass = finance\", fillcolor=\"#e58139fd\"] ;\n",
      "83 -> 84 ;\n",
      "85 [label=\"нападать <= 0.5\\ngini = 0.0133\\nsamples = 448\\nvalue = [445, 3]\\nclass = finance\", fillcolor=\"#e58139fd\"] ;\n",
      "84 -> 85 ;\n",
      "86 [label=\"сталин <= 1.0\\ngini = 0.0089\\nsamples = 447\\nvalue = [445, 2]\\nclass = finance\", fillcolor=\"#e58139fe\"] ;\n",
      "85 -> 86 ;\n",
      "87 [label=\"досрочный <= 1.5\\ngini = 0.0045\\nsamples = 446\\nvalue = [445, 1]\\nclass = finance\", fillcolor=\"#e58139fe\"] ;\n",
      "86 -> 87 ;\n",
      "88 [label=\"gini = 0.0\\nsamples = 445\\nvalue = [445, 0]\\nclass = finance\", fillcolor=\"#e58139ff\"] ;\n",
      "87 -> 88 ;\n",
      "89 [label=\"gini = 0.0\\nsamples = 1\\nvalue = [0, 1]\\nclass = politics\", fillcolor=\"#399de5ff\"] ;\n",
      "87 -> 89 ;\n",
      "90 [label=\"gini = 0.0\\nsamples = 1\\nvalue = [0, 1]\\nclass = politics\", fillcolor=\"#399de5ff\"] ;\n",
      "86 -> 90 ;\n",
      "91 [label=\"gini = 0.0\\nsamples = 1\\nvalue = [0, 1]\\nclass = politics\", fillcolor=\"#399de5ff\"] ;\n",
      "85 -> 91 ;\n",
      "92 [label=\"gini = 0.0\\nsamples = 1\\nvalue = [0, 1]\\nclass = politics\", fillcolor=\"#399de5ff\"] ;\n",
      "84 -> 92 ;\n",
      "93 [label=\"оба <= 0.5\\ngini = 0.4444\\nsamples = 3\\nvalue = [1, 2]\\nclass = politics\", fillcolor=\"#399de57f\"] ;\n",
      "83 -> 93 ;\n",
      "94 [label=\"gini = 0.0\\nsamples = 2\\nvalue = [0, 2]\\nclass = politics\", fillcolor=\"#399de5ff\"] ;\n",
      "93 -> 94 ;\n",
      "95 [label=\"gini = 0.0\\nsamples = 1\\nvalue = [1, 0]\\nclass = finance\", fillcolor=\"#e58139ff\"] ;\n",
      "93 -> 95 ;\n",
      "96 [label=\"gini = 0.0\\nsamples = 2\\nvalue = [0, 2]\\nclass = politics\", fillcolor=\"#399de5ff\"] ;\n",
      "82 -> 96 ;\n",
      "97 [label=\"обеспечить <= 0.5\\ngini = 0.375\\nsamples = 8\\nvalue = [2, 6]\\nclass = politics\", fillcolor=\"#399de5aa\"] ;\n",
      "81 -> 97 ;\n",
      "98 [label=\"gini = 0.0\\nsamples = 6\\nvalue = [0, 6]\\nclass = politics\", fillcolor=\"#399de5ff\"] ;\n",
      "97 -> 98 ;\n",
      "99 [label=\"gini = 0.0\\nsamples = 2\\nvalue = [2, 0]\\nclass = finance\", fillcolor=\"#e58139ff\"] ;\n",
      "97 -> 99 ;\n",
      "100 [label=\"примерно <= 0.5\\ngini = 0.426\\nsamples = 13\\nvalue = [4, 9]\\nclass = politics\", fillcolor=\"#399de58e\"] ;\n",
      "80 -> 100 ;\n",
      "101 [label=\"много <= 1.5\\ngini = 0.18\\nsamples = 10\\nvalue = [1, 9]\\nclass = politics\", fillcolor=\"#399de5e3\"] ;\n",
      "100 -> 101 ;\n",
      "102 [label=\"gini = 0.0\\nsamples = 9\\nvalue = [0, 9]\\nclass = politics\", fillcolor=\"#399de5ff\"] ;\n",
      "101 -> 102 ;\n",
      "103 [label=\"gini = 0.0\\nsamples = 1\\nvalue = [1, 0]\\nclass = finance\", fillcolor=\"#e58139ff\"] ;\n",
      "101 -> 103 ;\n",
      "104 [label=\"gini = 0.0\\nsamples = 3\\nvalue = [3, 0]\\nclass = finance\", fillcolor=\"#e58139ff\"] ;\n",
      "100 -> 104 ;\n",
      "}\n"
     ]
    }
   ],
   "source": [
    "get_tree_dot_view(clf, vectorizer.get_feature_names(), ['finance','politics'])"
   ]
  },
  {
   "cell_type": "markdown",
   "metadata": {},
   "source": [
    "### Какие слова самые важные?"
   ]
  },
  {
   "cell_type": "code",
   "execution_count": 34,
   "metadata": {
    "collapsed": true
   },
   "outputs": [],
   "source": [
    "def get_top_indexes(s):\n",
    "    return sorted(range(len(s)), key=lambda k: s[k], reverse=True)"
   ]
  },
  {
   "cell_type": "code",
   "execution_count": 35,
   "metadata": {
    "collapsed": true
   },
   "outputs": [],
   "source": [
    "feature_names = vectorizer.get_feature_names()"
   ]
  },
  {
   "cell_type": "code",
   "execution_count": 36,
   "metadata": {
    "collapsed": true
   },
   "outputs": [],
   "source": [
    "top_indexes = get_top_indexes(clf.feature_importances_)\n",
    "top_indexes = top_indexes[:10]\n",
    "top_indexes.reverse()"
   ]
  },
  {
   "cell_type": "code",
   "execution_count": 37,
   "metadata": {
    "collapsed": true
   },
   "outputs": [],
   "source": [
    "top_importances = [clf.feature_importances_[i] for i in top_indexes]\n",
    "top_words = [feature_names[i] for i in top_indexes]"
   ]
  },
  {
   "cell_type": "code",
   "execution_count": 38,
   "metadata": {},
   "outputs": [
    {
     "data": {
      "text/plain": [
       "''"
      ]
     },
     "execution_count": 38,
     "metadata": {},
     "output_type": "execute_result"
    },
    {
     "data": {
      "image/png": "[encoded data removed]",
      "text/plain": [
       "<matplotlib.figure.Figure at 0x11b46f588>"
      ]
     },
     "metadata": {},
     "output_type": "display_data"
    }
   ],
   "source": [
    "plt.barh(np.arange(len(top_importances)), top_importances)\n",
    "plt.yticks(np.arange(len(top_words)), top_words)\n",
    "''"
   ]
  },
  {
   "cell_type": "markdown",
   "metadata": {},
   "source": [
    "посмотрев на дерево решений, видно, что по этим словам просто идёт отсчения из основного корпуса политических текстов в финансовые"
   ]
  }
 ],
 "metadata": {
  "anaconda-cloud": {},
  "kernelspec": {
   "display_name": "Python 3",
   "language": "python",
   "name": "python3"
  },
  "language_info": {
   "codemirror_mode": {
    "name": "ipython",
    "version": 3
   },
   "file_extension": ".py",
   "mimetype": "text/x-python",
   "name": "python",
   "nbconvert_exporter": "python",
   "pygments_lexer": "ipython3",
   "version": "3.6.1"
  }
 },
 "nbformat": 4,
 "nbformat_minor": 2
}
